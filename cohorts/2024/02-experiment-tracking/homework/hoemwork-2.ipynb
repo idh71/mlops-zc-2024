{
 "cells": [
  {
   "cell_type": "markdown",
   "id": "71b8bf39-9838-4e74-801b-021f432c2f45",
   "metadata": {},
   "source": [
    "## Q1. Install MLflow\n",
    "\n",
    "To get started with MLflow you'll need to install the MLflow Python package.\n",
    "\n",
    "For this we recommend creating a separate Python environment, for example, you can use [conda environments](https://docs.conda.io/projects/conda/en/latest/user-guide/getting-started.html#managing-envs), and then install the package there with `pip` or `conda`.\n",
    "\n",
    "Once you installed the package, run the command `mlflow --version` and check the output.\n",
    "\n",
    "What's the version that you have?"
   ]
  },
  {
   "cell_type": "code",
   "execution_count": 2,
   "id": "875f8b20-45f9-44da-96eb-fe23578cd1ca",
   "metadata": {},
   "outputs": [
    {
     "name": "stdout",
     "output_type": "stream",
     "text": [
      "mlflow, version 2.13.0\n"
     ]
    }
   ],
   "source": [
    "!mlflow --version"
   ]
  },
  {
   "cell_type": "markdown",
   "id": "644793af-03d0-467f-8b21-2dc3d2984260",
   "metadata": {},
   "source": [
    "## Q2. Download and preprocess the data\n",
    "\n",
    "We'll use the Green Taxi Trip Records dataset to predict the duration of each trip. \n",
    "\n",
    "Download the data for January, February and March 2023 in parquet format from [here](https://www1.nyc.gov/site/tlc/about/tlc-trip-record-data.page).\n",
    "\n",
    "Use the script `preprocess_data.py` located in the folder [`homework`](homework) to preprocess the data.\n",
    "\n",
    "The script will:\n",
    "\n",
    "* load the data from the folder `<TAXI_DATA_FOLDER>` (the folder where you have downloaded the data),\n",
    "* fit a `DictVectorizer` on the training set (January 2023 data),\n",
    "* save the preprocessed datasets and the `DictVectorizer` to disk.\n",
    "\n",
    "Your task is to download the datasets and then execute this command:\n",
    "\n",
    "```\n",
    "python preprocess_data.py --raw_data_path <TAXI_DATA_FOLDER> --dest_path ./output\n",
    "```\n",
    "\n",
    "Tip: go to `02-experiment-tracking/homework/` folder before executing the command and change the value of `<TAXI_DATA_FOLDER>` to the location where you saved the data.\n",
    "\n",
    "How many files were saved to `OUTPUT_FOLDER`?\n",
    "\n",
    "* 1\n",
    "* 3\n",
    "* 4\n",
    "* 7"
   ]
  },
  {
   "cell_type": "code",
   "execution_count": 3,
   "id": "baee6a9b-ccb0-4f49-be8c-94c2a0e19b3b",
   "metadata": {},
   "outputs": [],
   "source": [
    "!mkdir data"
   ]
  },
  {
   "cell_type": "markdown",
   "id": "4b5550be-8011-471a-8c00-692d34fa165a",
   "metadata": {},
   "source": [
    "I listed the urls of the three files (one per line) in a file called urls.txt, now I should be able to download them all to the data directory with one commande"
   ]
  },
  {
   "cell_type": "code",
   "execution_count": 4,
   "id": "7bd5d726-a8ef-4095-b604-5751ce3a471f",
   "metadata": {},
   "outputs": [
    {
     "name": "stdout",
     "output_type": "stream",
     "text": [
      "--2024-05-23 12:51:18--  https://d37ci6vzurychx.cloudfront.net/trip-data/green_tripdata_2023-01.parquet\n",
      "Resolving d37ci6vzurychx.cloudfront.net (d37ci6vzurychx.cloudfront.net)... 52.85.39.117, 52.85.39.153, 52.85.39.65, ...\n",
      "Connecting to d37ci6vzurychx.cloudfront.net (d37ci6vzurychx.cloudfront.net)|52.85.39.117|:443... connected.\n",
      "HTTP request sent, awaiting response... 200 OK\n",
      "Length: 1427002 (1.4M) [binary/octet-stream]\n",
      "Saving to: ‘data/green_tripdata_2023-01.parquet’\n",
      "\n",
      "green_tripdata_2023 100%[===================>]   1.36M  --.-KB/s    in 0.04s   \n",
      "\n",
      "2024-05-23 12:51:18 (30.9 MB/s) - ‘data/green_tripdata_2023-01.parquet’ saved [1427002/1427002]\n",
      "\n",
      "--2024-05-23 12:51:18--  https://d37ci6vzurychx.cloudfront.net/trip-data/green_tripdata_2023-02.parquet\n",
      "Reusing existing connection to d37ci6vzurychx.cloudfront.net:443.\n",
      "HTTP request sent, awaiting response... 200 OK\n",
      "Length: 1533740 (1.5M) [binary/octet-stream]\n",
      "Saving to: ‘data/green_tripdata_2023-02.parquet’\n",
      "\n",
      "green_tripdata_2023 100%[===================>]   1.46M  --.-KB/s    in 0.009s  \n",
      "\n",
      "2024-05-23 12:51:18 (166 MB/s) - ‘data/green_tripdata_2023-02.parquet’ saved [1533740/1533740]\n",
      "\n",
      "--2024-05-23 12:51:18--  https://d37ci6vzurychx.cloudfront.net/trip-data/green_tripdata_2023-03.parquet\n",
      "Reusing existing connection to d37ci6vzurychx.cloudfront.net:443.\n",
      "HTTP request sent, awaiting response... 200 OK\n",
      "Length: 1730999 (1.7M) [binary/octet-stream]\n",
      "Saving to: ‘data/green_tripdata_2023-03.parquet’\n",
      "\n",
      "green_tripdata_2023 100%[===================>]   1.65M  --.-KB/s    in 0.01s   \n",
      "\n",
      "2024-05-23 12:51:18 (142 MB/s) - ‘data/green_tripdata_2023-03.parquet’ saved [1730999/1730999]\n",
      "\n",
      "FINISHED --2024-05-23 12:51:18--\n",
      "Total wall clock time: 0.2s\n",
      "Downloaded: 3 files, 4.5M in 0.06s (69.4 MB/s)\n"
     ]
    }
   ],
   "source": [
    "!wget -P data -i urls.txt"
   ]
  },
  {
   "cell_type": "code",
   "execution_count": 5,
   "id": "34467302-0d5d-4583-b5fd-8f16beb4bfd4",
   "metadata": {},
   "outputs": [
    {
     "name": "stdout",
     "output_type": "stream",
     "text": [
      "green_tripdata_2023-01.parquet\tgreen_tripdata_2023-03.parquet\n",
      "green_tripdata_2023-02.parquet\n"
     ]
    }
   ],
   "source": [
    "!ls data"
   ]
  },
  {
   "cell_type": "markdown",
   "id": "99d69182-7811-4dd4-9b92-b9a8db58db93",
   "metadata": {},
   "source": [
    "Now to preprocess the data"
   ]
  },
  {
   "cell_type": "code",
   "execution_count": 6,
   "id": "e0d01310-2661-4f5f-97eb-085b65bb7055",
   "metadata": {},
   "outputs": [],
   "source": [
    "!python preprocess_data.py --raw_data_path data --dest_path ./output"
   ]
  },
  {
   "cell_type": "markdown",
   "id": "954fae13-22fb-41ab-9ffc-5adc559854f8",
   "metadata": {},
   "source": [
    "to see how many files were created in output"
   ]
  },
  {
   "cell_type": "code",
   "execution_count": 7,
   "id": "51a87b9c-235b-4296-ad1e-814198c37106",
   "metadata": {},
   "outputs": [
    {
     "name": "stdout",
     "output_type": "stream",
     "text": [
      "dv.pkl\ttest.pkl  train.pkl  val.pkl\n"
     ]
    }
   ],
   "source": [
    "!ls output"
   ]
  },
  {
   "cell_type": "markdown",
   "id": "93cd46e6-6e40-463a-8ac5-da301c82ab75",
   "metadata": {},
   "source": [
    "alternatively"
   ]
  },
  {
   "cell_type": "code",
   "execution_count": 10,
   "id": "9fbad590-75b1-4a84-b9d5-87fcf950b9da",
   "metadata": {},
   "outputs": [
    {
     "name": "stdout",
     "output_type": "stream",
     "text": [
      "4\n"
     ]
    }
   ],
   "source": [
    "!ls -1 output | wc -l"
   ]
  },
  {
   "cell_type": "code",
   "execution_count": 11,
   "id": "89b4cd7f-5d9a-46b8-a0e2-1a4b73d57780",
   "metadata": {},
   "outputs": [],
   "source": [
    "Q4: 4"
   ]
  },
  {
   "cell_type": "markdown",
   "id": "370e9d82-5d1c-42d3-8b65-2b270c719257",
   "metadata": {},
   "source": [
    "## Q3. Train a model with autolog\n",
    "\n",
    "We will train a `RandomForestRegressor` (from Scikit-Learn) on the taxi dataset.\n",
    "\n",
    "We have prepared the training script `train.py` for this exercise, which can be also found in the folder `homework`. \n",
    "\n",
    "The script will:\n",
    "\n",
    "* load the datasets produced by the previous step,\n",
    "* train the model on the training set,\n",
    "* calculate the RMSE score on the validation set.\n",
    "\n",
    "Your task is to modify the script to enable **autologging** with MLflow, execute the script and then launch the MLflow UI to check that the experiment run was properly tracked. \n",
    "\n",
    "Tip 1: don't forget to wrap the training code with a `with mlflow.start_run():` statement as we showed in the videos.\n",
    "\n",
    "Tip 2: don't modify the hyperparameters of the model to make sure that the training will finish quickly.\n",
    "\n",
    "What is the value of the `min_samples_split` parameter:\n",
    "\n",
    "* 2\n",
    "* 4\n",
    "* 8\n",
    "* 10"
   ]
  },
  {
   "cell_type": "markdown",
   "id": "a1a696c0-921b-4dda-ae64-61d1e2ba8ff9",
   "metadata": {},
   "source": [
    "Alteratoins made to train.py:"
   ]
  },
  {
   "cell_type": "markdown",
   "id": "4b471306-6ec8-4694-92d2-4498d8f3da32",
   "metadata": {},
   "source": [
    "```import mlflow```"
   ]
  },
  {
   "cell_type": "markdown",
   "id": "2d0f1567-a69a-49f5-8bf7-ef0aa08022e2",
   "metadata": {},
   "source": [
    "near the top after imports:\n",
    "\n",
    "```pyhton\n",
    "mlflow.set_tracking_uri(\"http://127.0.0.1:5000\")\n",
    "```"
   ]
  },
  {
   "cell_type": "markdown",
   "id": "79a6a327-56e4-4522-bfe5-c785127a40d1",
   "metadata": {},
   "source": [
    "Finally, alter the run_train function like so:"
   ]
  },
  {
   "cell_type": "markdown",
   "id": "06f7f0b0-10e8-4500-a143-8b84953a1ccd",
   "metadata": {},
   "source": [
    "```python\n",
    "def run_train(data_path: str):\n",
    "    with mlflow.start_run(): \n",
    "        mlflow.autolog()\n",
    "```"
   ]
  },
  {
   "cell_type": "markdown",
   "id": "d5c8669c-55d1-4287-8e66-60573c4e4ebc",
   "metadata": {},
   "source": [
    "Before running train.py, you need to mlflow ui \n",
    "\n",
    "```mlflow ui```"
   ]
  },
  {
   "cell_type": "markdown",
   "id": "d7f18067-e837-4f7c-bcc7-c31485cb220c",
   "metadata": {},
   "source": [
    "checking the ui at localhost:5000 after train.y is run, we see min_samples_spllit is 2"
   ]
  },
  {
   "cell_type": "markdown",
   "id": "73e592f2-ab21-48ca-b64a-93d695daac80",
   "metadata": {},
   "source": [
    "Q3: 2"
   ]
  },
  {
   "cell_type": "markdown",
   "id": "566fb313-fb67-4761-8add-5e427b545e1b",
   "metadata": {},
   "source": [
    "## Q4. Launch the tracking server locally\n",
    "\n",
    "Now we want to manage the entire lifecycle of our ML model. In this step, you'll need to launch a tracking server. This way we will also have access to the model registry. \n",
    "\n",
    "Your task is to:\n",
    "\n",
    "* launch the tracking server on your local machine,\n",
    "* select a SQLite db for the backend store and a folder called `artifacts` for the artifacts store.\n",
    "\n",
    "You should keep the tracking server running to work on the next two exercises that use the server.\n",
    "\n",
    "In addition to `backend-store-uri`, what else do you need to pass to properly configure the server?\n",
    "\n",
    "* `default-artifact-root`\n",
    "* `serve-artifacts`\n",
    "* `artifacts-only`\n",
    "* `artifacts-destination`"
   ]
  },
  {
   "cell_type": "markdown",
   "id": "63a0ee9d-9106-40a8-8aa3-8c74a7fbfe7b",
   "metadata": {},
   "source": [
    "Q4: default-artifact-root"
   ]
  },
  {
   "cell_type": "markdown",
   "id": "07d57ca4-e081-4422-83f4-63bde0a00095",
   "metadata": {},
   "source": [
    "## Q5. Tune model hyperparameters\n",
    "\n",
    "Now let's try to reduce the validation error by tuning the hyperparameters of the `RandomForestRegressor` using `hyperopt`. \n",
    "We have prepared the script `hpo.py` for this exercise. \n",
    "\n",
    "Your task is to modify the script `hpo.py` and make sure that the validation RMSE is logged to the tracking server for each run of the hyperparameter optimization (you will need to add a few lines of code to the `objective` function) and run the script without passing any parameters.\n",
    "\n",
    "After that, open UI and explore the runs from the experiment called `random-forest-hyperopt` to answer the question below.\n",
    "\n",
    "Note: Don't use autologging for this exercise.\n",
    "\n",
    "The idea is to just log the information that you need to answer the question below, including:\n",
    "\n",
    "* the list of hyperparameters that are passed to the `objective` function during the optimization,\n",
    "* the RMSE obtained on the validation set (February 2023 data).\n",
    "\n",
    "What's the best validation RMSE that you got?\n",
    "\n",
    "* 4.817\n",
    "* 5.335\n",
    "* 5.818\n",
    "* 6.336\n"
   ]
  },
  {
   "cell_type": "markdown",
   "id": "2e088b47-7351-43b1-8d39-fbeb65fe77b3",
   "metadata": {},
   "source": [
    "Q5: 5.335"
   ]
  },
  {
   "cell_type": "markdown",
   "id": "91bcc568-19a5-4595-bb56-2629a56dd7f2",
   "metadata": {},
   "source": [
    "## Q6. Promote the best model to the model registry\n",
    "\n",
    "The results from the hyperparameter optimization are quite good. So, we can assume that we are ready to test some of these models in production. \n",
    "In this exercise, you'll promote the best model to the model registry. We have prepared a script called `register_model.py`, which will check the results from the previous step and select the top 5 runs. \n",
    "After that, it will calculate the RMSE of those models on the test set (March 2023 data) and save the results to a new experiment called `random-forest-best-models`.\n",
    "\n",
    "Your task is to update the script `register_model.py` so that it selects the model with the lowest RMSE on the test set and registers it to the model registry.\n",
    "\n",
    "Tip 1: you can use the method `search_runs` from the `MlflowClient` to get the model with the lowest RMSE,\n",
    "\n",
    "Tip 2: to register the model you can use the method `mlflow.register_model` and you will need to pass the right `model_uri` in the form of a string that looks like this: `\"runs:/<RUN_ID>/model\"`, and the name of the model (make sure to choose a good one!).\n",
    "\n",
    "What is the test RMSE of the best model?\n",
    "\n",
    "* 5.060\n",
    "* 5.567\n",
    "* 6.061\n",
    "* 6.568"
   ]
  },
  {
   "cell_type": "markdown",
   "id": "fed3068f-f727-4bee-b03f-9181d19b46d3",
   "metadata": {},
   "source": [
    "Q6: 5.567"
   ]
  },
  {
   "cell_type": "code",
   "execution_count": null,
   "id": "4e137ad5-655c-42a6-82b0-85400f1ab70f",
   "metadata": {},
   "outputs": [],
   "source": []
  }
 ],
 "metadata": {
  "kernelspec": {
   "display_name": "Python 3 (ipykernel)",
   "language": "python",
   "name": "python3"
  },
  "language_info": {
   "codemirror_mode": {
    "name": "ipython",
    "version": 3
   },
   "file_extension": ".py",
   "mimetype": "text/x-python",
   "name": "python",
   "nbconvert_exporter": "python",
   "pygments_lexer": "ipython3",
   "version": "3.10.13"
  }
 },
 "nbformat": 4,
 "nbformat_minor": 5
}
